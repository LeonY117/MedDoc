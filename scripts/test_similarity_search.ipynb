{
 "cells": [
  {
   "cell_type": "code",
   "execution_count": 38,
   "id": "86066424",
   "metadata": {},
   "outputs": [],
   "source": [
    "from langchain.schema import HumanMessage, SystemMessage\n",
    "import textwrap\n",
    "import os\n",
    "\n",
    "from langchain_core.messages.utils import count_tokens_approximately\n",
    "from langchain_openai import OpenAIEmbeddings\n",
    "\n",
    "from openai import OpenAI\n",
    "from langchain_chroma import Chroma\n",
    "\n",
    "from backend import ROOT_DIR\n",
    "\n",
    "\n",
    "CHROMA_PATH = f\"{ROOT_DIR}/chroma_langchain_db/text-embedding-3-small\"\n",
    "\n",
    "embeddings = OpenAIEmbeddings(model=\"text-embedding-3-small\")\n",
    "\n",
    "db = Chroma(persist_directory=CHROMA_PATH, embedding_function=embeddings)\n",
    "question = \"How many days in advance to ask for adoption leave?\"\n",
    "\n",
    "question = \"How much do I still get paid if I go on maternity leave?\"\n",
    "\n",
    "docs = db.similarity_search(question, k=3)"
   ]
  },
  {
   "cell_type": "code",
   "execution_count": 39,
   "id": "f76b52b2",
   "metadata": {},
   "outputs": [
    {
     "name": "stdout",
     "output_type": "stream",
     "text": [
      "iii.for the next 13 weeks, the employee will receive any Statutory Maternity Pay or maternity allowance that they are entitled to under the statutory scheme. iv.For the final 13 weeks, the employee will receive no pay\n",
      "\n",
      "19. Can I change how this is paid?\n",
      "\n",
      "Yes, section 15.21 of the handbook states: by prior agreement with the employer, occupational maternity pay may be paid in a different way, for example a combination of full pay and half pay, or a fixed amount spread equally over the maternity leave period. Where occupational maternity pay has been paid in a different way and the employee subsequently choses to access shared parental leave and pay, the employer may need to recalculate payments to ensure that there has not been any over or underpayment of entitlements.\n",
      "\n",
      "Calculation of maternity/adoption/shared parental pay\n",
      "\n",
      "20. How is my maternity pay calculated?\n",
      "\n",
      "\n",
      "{'filename': 'W19-Leave-Policy-Chapter-4-Fertility-Pregnancy-and-Maternity-Additions-to-App-C-Dec-2024-V2.1.pdf', 'pdf_hash': '07ffab95f287e5b66ddce815a30c6691573179a988dc6ffcc30f4f13b0b8c2a3', 'page_number': 8}\n",
      "----------------------------------------------------------------------------------------------------\n",
      "If you meet the requirements of section 15.14, 15.15 or 15.17 of the handbook, section 15.20 states ‘Where an employee intends to return to work the amount of contractual maternity pay receivable is as follows:\n",
      "\n",
      "i.for the first eight weeks of absence the employee will receive full pay, less any Statutory Maternity Pay or maternity allowance (including any dependents’ allowances) receivable (where this is paid by Department of Work and Pensions);\n",
      "\n",
      "ii.for the next 18 weeks the employee will receive half of full pay, plus any Statutory Maternity Pay or maternity allowance (including any dependents’ allowances) receivable, providing the total receivable does not exceed full pay;\n",
      "\n",
      "Chapter 4: Fertility, Pregnancy and Maternity Leave\n",
      "\n",
      "Version 2.1\n",
      "\n",
      "Page 7 of 26\n",
      "\n",
      "Reviewed: Dec 2024 (minor amendments) Next Review Dec 2027 Reviewed By DM/ND/CG This document was last updated to reflect the changes in the NHS Terms and Conditions of Service ‘Handbook’ (amendment no 40)\n",
      "\n",
      "\n",
      "{'page_number': 7, 'filename': 'W19-Leave-Policy-Chapter-4-Fertility-Pregnancy-and-Maternity-Additions-to-App-C-Dec-2024-V2.1.pdf', 'pdf_hash': '07ffab95f287e5b66ddce815a30c6691573179a988dc6ffcc30f4f13b0b8c2a3'}\n",
      "----------------------------------------------------------------------------------------------------\n",
      "Whilst you are receiving Maternity Pay, contributions will be deducted from your salary based on payments received. As no contributions can be made whilst you are on unpaid Maternity Leave, these must be reimbursed to the scheme on your return to work. Therefore, on your return additional contributions will be deducted from your salary until the shortfall has been paid. You are advised to contact the Pensions Officer for further information.\n",
      "\n",
      "Post-natal care and breastfeeding mothers\n",
      "\n",
      "54. When I come back to work can I take time off for Post-natal care appointments? See chapter 8: Special Leave Policy.\n",
      "\n",
      "55. What support is available to me if I return to work whilst breastfeeding? The handbook in section 15.76 sets out that risk assessment must be carried out for any employee who is breastfeeding, and appropriate facilities must be provided.\n",
      "\n",
      "Employees not returning to NHS Employment – also applicable to Adoption Leave and Shared Parental Leave\n",
      "\n",
      "\n",
      "{'pdf_hash': '07ffab95f287e5b66ddce815a30c6691573179a988dc6ffcc30f4f13b0b8c2a3', 'filename': 'W19-Leave-Policy-Chapter-4-Fertility-Pregnancy-and-Maternity-Additions-to-App-C-Dec-2024-V2.1.pdf', 'page_number': 16}\n",
      "----------------------------------------------------------------------------------------------------\n"
     ]
    }
   ],
   "source": [
    "for doc in docs:\n",
    "    print(doc.page_content)\n",
    "    print('\\n')\n",
    "    print(doc.metadata)\n",
    "    print(\"-\" * 100)"
   ]
  },
  {
   "cell_type": "code",
   "execution_count": 40,
   "id": "c688f644",
   "metadata": {},
   "outputs": [
    {
     "name": "stdout",
     "output_type": "stream",
     "text": [
      "Tokens in context: 995\n"
     ]
    }
   ],
   "source": [
    "context_texts = [\n",
    "    [\n",
    "        f\"Document: {doc.metadata['filename']}, Page: {doc.metadata['page_number']}\",\n",
    "        f\"Content: {doc.page_content}\",\n",
    "    ]\n",
    "    for doc in docs\n",
    "]\n",
    "\n",
    "context = '\\n\\n'.join(f\"{doc[0]}\\n{doc[1]}\" for doc in context_texts)\n",
    "\n",
    "system_prompt = (\n",
    "    \"You are an HR assistant for NHS staffs.\"\n",
    "    \"Answer the question based solely on the provided policy context, if multiple documents are relevant, provide a summary of relevant information.\"\n",
    "    \"If the context does not contain the answer, reply 'I couldn't find the relevant information.' instead of inventing one.\"\n",
    "    \"Please state the answer by adhering closely to the original text, and do not generate any additional information.\"\n",
    "    \"If sensible, provide users with some extra information that is useful, note that this also has to be based on the context ONLY.\"\n",
    "    \"At the end of your answer, cite the page number and document name of the text that you used to answer the question.\"\n",
    ")\n",
    "\n",
    "messages = [\n",
    "    SystemMessage(content=system_prompt),\n",
    "    HumanMessage(content=textwrap.dedent(f\"\"\"\n",
    "        Context:\n",
    "        {context}\n",
    "\n",
    "        Question: {question}\n",
    "    \"\"\")),\n",
    "]\n",
    "\n",
    "print(f\"Tokens in context: {count_tokens_approximately(messages)}\")\n",
    "# calculate how many tokens are in the query\n",
    "\n",
    "OPENAI_API_KEY = os.getenv(\"OPENAI_API_KEY\")\n",
    "OPENAI_MODEL = os.getenv(\"OPENAI_MODEL\", \"gpt-3.5-turbo\")\n",
    "\n",
    "from langchain.chat_models import init_chat_model\n",
    "\n",
    "model = init_chat_model(\n",
    "    OPENAI_MODEL,\n",
    "    model_provider=\"openai\",\n",
    "    api_key=OPENAI_API_KEY,\n",
    ")"
   ]
  },
  {
   "cell_type": "code",
   "execution_count": 41,
   "id": "c3f4e20f",
   "metadata": {},
   "outputs": [],
   "source": [
    "response = model.invoke(messages)"
   ]
  },
  {
   "cell_type": "code",
   "execution_count": 42,
   "id": "b34b7430",
   "metadata": {},
   "outputs": [
    {
     "data": {
      "text/plain": [
       "'If you go on maternity leave, your pay will be calculated as follows:  \\n\\n- For the first eight weeks of absence, you will receive full pay, less any Statutory Maternity Pay or maternity allowance.\\n- For the next 18 weeks, you will receive half of full pay, plus any Statutory Maternity Pay or maternity allowance, as long as the total does not exceed full pay.\\n- For the following 13 weeks after that, you will receive any Statutory Maternity Pay or maternity allowance that you are entitled to under the statutory scheme.\\n- For the final 13 weeks, you will receive no pay (W19-Leave-Policy-Chapter-4-Fertility-Pregnancy-and-Maternity-Additions-to-App-C-Dec-2024-V2.1.pdf, Page: 8; 7).'"
      ]
     },
     "execution_count": 42,
     "metadata": {},
     "output_type": "execute_result"
    }
   ],
   "source": [
    "response.content"
   ]
  },
  {
   "cell_type": "code",
   "execution_count": 1,
   "id": "2779998a",
   "metadata": {},
   "outputs": [
    {
     "name": "stdout",
     "output_type": "stream",
     "text": [
      "[Document(metadata={'filename': 'Managers-and-Staff-Policy-Handbook-2024-W100.pdf', 'page_number': 37, 'pdf_hash': 'c7ed49dd143740536120374bc7ba05b76e00ab485358346c33195b1032fe79e1'}, page_content='Policy implementation:\\n\\nAdoption leave is the period of absence from work before and after the adoption of a child. A ‘matching certificate’ from the adoption agency is evidence of the entitlement to take Adoption Leave. Employees must notify the manager in writing using the Adoption Leave Form within 7 days of being notified by the adoption agency having been matched with a child for adoption or by the 15th week before the baby’s due date if applying via a surrogacy arrangement. Employees are entitled to take 52 weeks’ adoption leave. Employees are required to give at least 8 weeks’ notice if they wish to return to work before the agreed return date.'), Document(metadata={'page_number': 5, 'pdf_hash': '45ca58270db5708d0be625c6f28f24bf5c1541e94c3ebb741a03978314f8e419', 'filename': 'W19-Leave-Policy-Chapter-1-Adoption-Leave-Procedure-Amends-April-2024-v2.pdf'}, page_content='You can choose to start your leave either on the date of the child’s placement (whether this is earlier or later than expected), or from a fixed date which can be up to 14 days before the expected date of placement. If the placement is delayed and Adoption Leave has commenced, it cannot be stopped and resumed again at a later date. Leave can start on any day of the week\\n\\n17. Can I change my mind about the date I want my leave to start? You can change your mind about the date on which you wish to start your Adoption Leave provided you advise your Manager at least 28 days in advance (unless this is not reasonably practicable).\\n\\nStatutory Adoption Leave\\n\\n18. If I am not eligible for Occupational Adoption Pay can I claim statutory adoption pay? The handbook states in section 15.102 that:'), Document(metadata={'filename': 'Managers-and-Staff-Policy-Handbook-2024-W100.pdf', 'pdf_hash': 'c7ed49dd143740536120374bc7ba05b76e00ab485358346c33195b1032fe79e1', 'page_number': 37}, page_content='Adopting from overseas to qualify employees must inform the manager within 28 days of the official notification and the date the child will arrive in GB.\\n\\nFoster parents who are subsequently matched for adoption, will be entitled to adoption leave when the child is actually placed with them for adoption.\\n\\nAdopting more than one child: Only one period of Adoption leave can be taken irrespective of whether more than one child is placed for adoption.\\n\\nThe adoption does not take place: Employees must return to work within a reasonable period of time by agreement with their manager. Also, if the adoption terminates i.e. (“Be disrupted”) the employee will be entitled to continue their adoption leave and receive the appropriate payment for that time.\\n\\n37'), Document(metadata={'filename': 'W19-Leave-Policy-Chapter-1-Adoption-Leave-Procedure-Amends-April-2024-v2.pdf', 'page_number': 3, 'pdf_hash': '45ca58270db5708d0be625c6f28f24bf5c1541e94c3ebb741a03978314f8e419'}, page_content='the date the you were told by the adoption agency that you had been matched with a child\\n\\n5. What notice do I need to give my manager that I am taking adoption leave? You must notify your Manager in writing using the Adoption Leave Form of your intention to take adoption leave within 7 days of being notified by your adoption agency that you have been matched with a child for adoption, unless this is not reasonably practicable.\\n\\nEligibility\\n\\n6. Am I entitled to Adoption Leave?\\n\\nSection 15.15 sets out that:\\n\\nthere will be entitlement to paid and unpaid occupational adoption leave for employees wishing to adopt a child who is newly placed for adoption. Further section 15.15 states it will be available to people wishing to adopt a child who has primary carer responsibilities for that child.\\n\\n7. Am I eligible for Adoption Pay?\\n\\nThe handbook states in section 15.15:')]\n"
     ]
    }
   ],
   "source": [
    "from backend.retrieval.retrieval import get_answer\n",
    "\n",
    "answer, trace_dict = get_answer(\"How many days in advance to ask for adoption leave?\", trace=True)\n"
   ]
  },
  {
   "cell_type": "code",
   "execution_count": 2,
   "id": "68c1a634",
   "metadata": {},
   "outputs": [
    {
     "data": {
      "text/plain": [
       "'You must notify your Manager in writing using the Adoption Leave Form within 7 days of being notified by your adoption agency that you have been matched with a child for adoption, unless this is not reasonably practicable (W19-Leave-Policy-Chapter-1-Adoption-Leave-Procedure-Amends-April-2024-v2.pdf, Page: 3).'"
      ]
     },
     "execution_count": 2,
     "metadata": {},
     "output_type": "execute_result"
    }
   ],
   "source": [
    "answer"
   ]
  },
  {
   "cell_type": "code",
   "execution_count": 3,
   "id": "d44337f2",
   "metadata": {},
   "outputs": [
    {
     "data": {
      "text/plain": [
       "{'question': 'How many days in advance to ask for adoption leave?',\n",
       " 'retrieved_docs': [{'page_content': 'Policy implementation:\\n\\nAdoption leave is the period of absence from work before and after the adoption of a child. A ‘matching certificate’ from the adoption agency is evidence of the entitlement to take Adoption Leave. Employees must notify the manager in writing using the Adoption Leave Form within 7 days of being notified by the adoption agency having been matched with a child for adoption or by the 15th week before the baby’s due date if applying via a surrogacy arrangement. Employees are entitled to take 52 weeks’ adoption leave. Employees are required to give at least 8 weeks’ notice if they wish to return to work before the agreed return date.',\n",
       "   'metadata': {'filename': 'Managers-and-Staff-Policy-Handbook-2024-W100.pdf',\n",
       "    'page_number': 37,\n",
       "    'pdf_hash': 'c7ed49dd143740536120374bc7ba05b76e00ab485358346c33195b1032fe79e1'}},\n",
       "  {'page_content': 'You can choose to start your leave either on the date of the child’s placement (whether this is earlier or later than expected), or from a fixed date which can be up to 14 days before the expected date of placement. If the placement is delayed and Adoption Leave has commenced, it cannot be stopped and resumed again at a later date. Leave can start on any day of the week\\n\\n17. Can I change my mind about the date I want my leave to start? You can change your mind about the date on which you wish to start your Adoption Leave provided you advise your Manager at least 28 days in advance (unless this is not reasonably practicable).\\n\\nStatutory Adoption Leave\\n\\n18. If I am not eligible for Occupational Adoption Pay can I claim statutory adoption pay? The handbook states in section 15.102 that:',\n",
       "   'metadata': {'page_number': 5,\n",
       "    'pdf_hash': '45ca58270db5708d0be625c6f28f24bf5c1541e94c3ebb741a03978314f8e419',\n",
       "    'filename': 'W19-Leave-Policy-Chapter-1-Adoption-Leave-Procedure-Amends-April-2024-v2.pdf'}},\n",
       "  {'page_content': 'Adopting from overseas to qualify employees must inform the manager within 28 days of the official notification and the date the child will arrive in GB.\\n\\nFoster parents who are subsequently matched for adoption, will be entitled to adoption leave when the child is actually placed with them for adoption.\\n\\nAdopting more than one child: Only one period of Adoption leave can be taken irrespective of whether more than one child is placed for adoption.\\n\\nThe adoption does not take place: Employees must return to work within a reasonable period of time by agreement with their manager. Also, if the adoption terminates i.e. (“Be disrupted”) the employee will be entitled to continue their adoption leave and receive the appropriate payment for that time.\\n\\n37',\n",
       "   'metadata': {'filename': 'Managers-and-Staff-Policy-Handbook-2024-W100.pdf',\n",
       "    'pdf_hash': 'c7ed49dd143740536120374bc7ba05b76e00ab485358346c33195b1032fe79e1',\n",
       "    'page_number': 37}},\n",
       "  {'page_content': 'the date the you were told by the adoption agency that you had been matched with a child\\n\\n5. What notice do I need to give my manager that I am taking adoption leave? You must notify your Manager in writing using the Adoption Leave Form of your intention to take adoption leave within 7 days of being notified by your adoption agency that you have been matched with a child for adoption, unless this is not reasonably practicable.\\n\\nEligibility\\n\\n6. Am I entitled to Adoption Leave?\\n\\nSection 15.15 sets out that:\\n\\nthere will be entitlement to paid and unpaid occupational adoption leave for employees wishing to adopt a child who is newly placed for adoption. Further section 15.15 states it will be available to people wishing to adopt a child who has primary carer responsibilities for that child.\\n\\n7. Am I eligible for Adoption Pay?\\n\\nThe handbook states in section 15.15:',\n",
       "   'metadata': {'filename': 'W19-Leave-Policy-Chapter-1-Adoption-Leave-Procedure-Amends-April-2024-v2.pdf',\n",
       "    'page_number': 3,\n",
       "    'pdf_hash': '45ca58270db5708d0be625c6f28f24bf5c1541e94c3ebb741a03978314f8e419'}}],\n",
       " 'prompt': \"You are an HR assistant for NHS staffs.Answer the question based solely on the provided policy context, if multiple documents are relevant, provide a summary of relevant information.If the context does not contain the answer, reply 'I couldn't find the relevant information.' instead of inventing one.Please state the answer by adhering closely to the original text, and do not generate any additional information.If sensible, provide users with some extra information that is useful, note that this also has to be based on the context ONLY.At the end of your answer, cite the page number and document name of the text that you used to answer the question.\\n\\n\\n        Context:\\n        Document: Managers-and-Staff-Policy-Handbook-2024-W100.pdf, Page: 37\\nContent: Policy implementation:\\n\\nAdoption leave is the period of absence from work before and after the adoption of a child. A ‘matching certificate’ from the adoption agency is evidence of the entitlement to take Adoption Leave. Employees must notify the manager in writing using the Adoption Leave Form within 7 days of being notified by the adoption agency having been matched with a child for adoption or by the 15th week before the baby’s due date if applying via a surrogacy arrangement. Employees are entitled to take 52 weeks’ adoption leave. Employees are required to give at least 8 weeks’ notice if they wish to return to work before the agreed return date.\\n\\nDocument: W19-Leave-Policy-Chapter-1-Adoption-Leave-Procedure-Amends-April-2024-v2.pdf, Page: 5\\nContent: You can choose to start your leave either on the date of the child’s placement (whether this is earlier or later than expected), or from a fixed date which can be up to 14 days before the expected date of placement. If the placement is delayed and Adoption Leave has commenced, it cannot be stopped and resumed again at a later date. Leave can start on any day of the week\\n\\n17. Can I change my mind about the date I want my leave to start? You can change your mind about the date on which you wish to start your Adoption Leave provided you advise your Manager at least 28 days in advance (unless this is not reasonably practicable).\\n\\nStatutory Adoption Leave\\n\\n18. If I am not eligible for Occupational Adoption Pay can I claim statutory adoption pay? The handbook states in section 15.102 that:\\n\\nDocument: Managers-and-Staff-Policy-Handbook-2024-W100.pdf, Page: 37\\nContent: Adopting from overseas to qualify employees must inform the manager within 28 days of the official notification and the date the child will arrive in GB.\\n\\nFoster parents who are subsequently matched for adoption, will be entitled to adoption leave when the child is actually placed with them for adoption.\\n\\nAdopting more than one child: Only one period of Adoption leave can be taken irrespective of whether more than one child is placed for adoption.\\n\\nThe adoption does not take place: Employees must return to work within a reasonable period of time by agreement with their manager. Also, if the adoption terminates i.e. (“Be disrupted”) the employee will be entitled to continue their adoption leave and receive the appropriate payment for that time.\\n\\n37\\n\\nDocument: W19-Leave-Policy-Chapter-1-Adoption-Leave-Procedure-Amends-April-2024-v2.pdf, Page: 3\\nContent: the date the you were told by the adoption agency that you had been matched with a child\\n\\n5. What notice do I need to give my manager that I am taking adoption leave? You must notify your Manager in writing using the Adoption Leave Form of your intention to take adoption leave within 7 days of being notified by your adoption agency that you have been matched with a child for adoption, unless this is not reasonably practicable.\\n\\nEligibility\\n\\n6. Am I entitled to Adoption Leave?\\n\\nSection 15.15 sets out that:\\n\\nthere will be entitlement to paid and unpaid occupational adoption leave for employees wishing to adopt a child who is newly placed for adoption. Further section 15.15 states it will be available to people wishing to adopt a child who has primary carer responsibilities for that child.\\n\\n7. Am I eligible for Adoption Pay?\\n\\nThe handbook states in section 15.15:\\n\\n        Question: How many days in advance to ask for adoption leave?\\n\",\n",
       " 'raw_llm_response': 'You must notify your Manager in writing using the Adoption Leave Form within 7 days of being notified by your adoption agency that you have been matched with a child for adoption, unless this is not reasonably practicable (W19-Leave-Policy-Chapter-1-Adoption-Leave-Procedure-Amends-April-2024-v2.pdf, Page: 3).',\n",
       " 'final_answer': 'You must notify your Manager in writing using the Adoption Leave Form within 7 days of being notified by your adoption agency that you have been matched with a child for adoption, unless this is not reasonably practicable (W19-Leave-Policy-Chapter-1-Adoption-Leave-Procedure-Amends-April-2024-v2.pdf, Page: 3).',\n",
       " 'num_tokens': 1061,\n",
       " 'ts': '2025-08-02T16:09:49.099585'}"
      ]
     },
     "execution_count": 3,
     "metadata": {},
     "output_type": "execute_result"
    }
   ],
   "source": [
    "trace_dict"
   ]
  }
 ],
 "metadata": {
  "kernelspec": {
   "display_name": "meddoc",
   "language": "python",
   "name": "python3"
  },
  "language_info": {
   "codemirror_mode": {
    "name": "ipython",
    "version": 3
   },
   "file_extension": ".py",
   "mimetype": "text/x-python",
   "name": "python",
   "nbconvert_exporter": "python",
   "pygments_lexer": "ipython3",
   "version": "3.11.11"
  }
 },
 "nbformat": 4,
 "nbformat_minor": 5
}
